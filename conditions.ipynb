{
  "nbformat": 4,
  "nbformat_minor": 0,
  "metadata": {
    "colab": {
      "provenance": []
    },
    "kernelspec": {
      "name": "python3",
      "display_name": "Python 3"
    },
    "language_info": {
      "name": "python"
    }
  },
  "cells": [
    {
      "cell_type": "markdown",
      "source": [],
      "metadata": {
        "id": "PoJLk9y-jvsW"
      }
    },
    {
      "cell_type": "markdown",
      "source": [
        "1. Check if a number is even or odd."
      ],
      "metadata": {
        "id": "xL-leOrMH2VI"
      }
    },
    {
      "cell_type": "code",
      "execution_count": 1,
      "metadata": {
        "id": "FdjceagOjpmY",
        "colab": {
          "base_uri": "https://localhost:8080/"
        },
        "outputId": "71c06226-f9d0-495e-d0e7-ce57c67b2af1"
      },
      "outputs": [
        {
          "output_type": "stream",
          "name": "stdout",
          "text": [
            "Even\n"
          ]
        }
      ],
      "source": [
        "#Check if a number is even or odd\n",
        "# Answer:Use the modulo operator % to determine if the number is divisible by 2.\n",
        "n = 10\n",
        "if n % 2 == 0:\n",
        "    print(\"Even\")\n",
        "else:\n",
        "    print(\"Odd\")\n"
      ]
    },
    {
      "cell_type": "markdown",
      "source": [
        "2. Check if a number is positive, negative, or zero"
      ],
      "metadata": {
        "id": "e323MIARH9Nf"
      }
    },
    {
      "cell_type": "code",
      "source": [
        "#Check if a number is positive, negative, or zero\n",
        "#Answer: Use if-elif-else conditions to classify the number.\n",
        "\n",
        "\n",
        "num = -5\n",
        "if num > 0:\n",
        "    print(\"Positive\")\n",
        "elif num < 0:\n",
        "    print(\"Negative\")\n",
        "else:\n",
        "    print(\"Zero\")"
      ],
      "metadata": {
        "colab": {
          "base_uri": "https://localhost:8080/"
        },
        "id": "9fogGh-9H3KR",
        "outputId": "4af32c69-f4f4-4498-89ce-377ece6003a7"
      },
      "execution_count": 2,
      "outputs": [
        {
          "output_type": "stream",
          "name": "stdout",
          "text": [
            "Negative\n"
          ]
        }
      ]
    },
    {
      "cell_type": "markdown",
      "source": [
        "3. Determine if a character is a vowel or consonant (assume input is a single lowercase letter)."
      ],
      "metadata": {
        "id": "CfGH3WiPIBgQ"
      }
    },
    {
      "cell_type": "code",
      "source": [
        "#Determine if a character is a vowel or consonant (assume input is a single lowercase letter)\n",
        "ch = 'e'\n",
        "if ch == 'a' or ch == 'e' or ch == 'i' or ch == 'o' or ch == 'u':\n",
        "    print(\"Vowel\")\n",
        "else:\n",
        "    print(\"Consonant\")"
      ],
      "metadata": {
        "colab": {
          "base_uri": "https://localhost:8080/"
        },
        "id": "O0IDWoiZIAnO",
        "outputId": "e38f2b68-1ee1-4944-ccc0-235c11955cea"
      },
      "execution_count": 3,
      "outputs": [
        {
          "output_type": "stream",
          "name": "stdout",
          "text": [
            "Vowel\n"
          ]
        }
      ]
    },
    {
      "cell_type": "markdown",
      "source": [
        "4. Check if a year is a leap year."
      ],
      "metadata": {
        "id": "i2ELURZbIR6x"
      }
    },
    {
      "cell_type": "code",
      "source": [
        "#Answer:A leap year is divisible by 400, or divisible by 4 but not by 100.\n",
        "\n",
        "year = 2020\n",
        "if (year % 400 == 0) or (year % 4 == 0 and year % 100 != 0):\n",
        "    print(\"Leap Year\")\n",
        "else:\n",
        "    print(\"Not Leap Year\")\n"
      ],
      "metadata": {
        "colab": {
          "base_uri": "https://localhost:8080/"
        },
        "id": "yngEfaTMISv4",
        "outputId": "33ff8aa6-dc55-4775-af12-9de28c791538"
      },
      "execution_count": 4,
      "outputs": [
        {
          "output_type": "stream",
          "name": "stdout",
          "text": [
            "Leap Year\n"
          ]
        }
      ]
    },
    {
      "cell_type": "markdown",
      "source": [
        "5. Determine a person's stage of life (child, teen, adult, senior) based on age.\n"
      ],
      "metadata": {
        "id": "7_s3WHx7I0AG"
      }
    },
    {
      "cell_type": "code",
      "source": [
        "#Answer:Use multiple elif conditions for ranges.\n",
        "\n",
        "age = 45\n",
        "if age < 13:\n",
        "    print(\"Child\")\n",
        "elif age < 20:\n",
        "    print(\"Teen\")\n",
        "elif age < 60:\n",
        "    print(\"Adult\")\n",
        "else:\n",
        "    print(\"Senior\")"
      ],
      "metadata": {
        "colab": {
          "base_uri": "https://localhost:8080/"
        },
        "id": "OCL39A5cI1SZ",
        "outputId": "f9a58930-2642-4e77-8008-10b5f3461d7d"
      },
      "execution_count": 5,
      "outputs": [
        {
          "output_type": "stream",
          "name": "stdout",
          "text": [
            "Adult\n"
          ]
        }
      ]
    },
    {
      "cell_type": "markdown",
      "source": [
        "6. Check if a password meets length criteria (at least 8 characters)."
      ],
      "metadata": {
        "id": "Q7yB3SGxI81N"
      }
    },
    {
      "cell_type": "code",
      "source": [
        "#Answer:First check positivity, then even/odd inside another if.\n",
        "\n",
        "num = 9\n",
        "if num > 0:\n",
        "    if num % 2 == 0:\n",
        "        print(\"Positive Even\")\n",
        "    else:\n",
        "        print(\"Positive Odd\")\n",
        "else:\n",
        "    print(\"Not Positive\")\n"
      ],
      "metadata": {
        "colab": {
          "base_uri": "https://localhost:8080/"
        },
        "id": "IZsgrfK-I99G",
        "outputId": "b900c2c9-6fef-490b-c182-a8d263743c40"
      },
      "execution_count": 6,
      "outputs": [
        {
          "output_type": "stream",
          "name": "stdout",
          "text": [
            "Positive Odd\n"
          ]
        }
      ]
    },
    {
      "cell_type": "markdown",
      "source": [
        "8. Determine if a given letter is uppercase, lowercase, or neither.\n"
      ],
      "metadata": {
        "id": "X5oPzYW2JGxq"
      }
    },
    {
      "cell_type": "code",
      "source": [
        "#Use str methods isupper() and islower().\n",
        "\n",
        "ch = 'H'\n",
        "if ch.isupper():\n",
        "    print(\"Uppercase\")\n",
        "elif ch.islower():\n",
        "    print(\"Lowercase\")\n",
        "else:\n",
        "    print(\"Neither uppercase nor lowercase\")"
      ],
      "metadata": {
        "colab": {
          "base_uri": "https://localhost:8080/"
        },
        "id": "gzZxBT5MJNwx",
        "outputId": "e77d7df5-baee-460a-d3ba-2659569b0b60"
      },
      "execution_count": 7,
      "outputs": [
        {
          "output_type": "stream",
          "name": "stdout",
          "text": [
            "Uppercase\n"
          ]
        }
      ]
    },
    {
      "cell_type": "code",
      "source": [
        "9. Check if a number is divisible by both 3 and 5."
      ],
      "metadata": {
        "id": "iWXCquRGJTAu"
      },
      "execution_count": null,
      "outputs": []
    },
    {
      "cell_type": "code",
      "source": [
        "# Use multiple conditions with and.\n",
        "\n",
        "num = 30\n",
        "if num % 3 == 0 and num % 5 == 0:\n",
        "    print(\"Divisible by 3 and 5\")\n",
        "else:\n",
        "    print(\"Not divisible by both\")"
      ],
      "metadata": {
        "colab": {
          "base_uri": "https://localhost:8080/"
        },
        "id": "hikfyPeXJX9I",
        "outputId": "5a8c3705-ab0f-40a3-ed7f-44f35adf331f"
      },
      "execution_count": 9,
      "outputs": [
        {
          "output_type": "stream",
          "name": "stdout",
          "text": [
            "Divisible by 3 and 5\n"
          ]
        }
      ]
    },
    {
      "cell_type": "markdown",
      "source": [
        "10. Check if a character is a digit."
      ],
      "metadata": {
        "id": "oyDIyj1SJe94"
      }
    },
    {
      "cell_type": "code",
      "source": [
        "#Use str.isdigit().\n",
        "\n",
        "ch = '5'\n",
        "if ch.isdigit():\n",
        "    print(\"Digit\")\n",
        "else:\n",
        "    print(\"Not a digit\")\n"
      ],
      "metadata": {
        "colab": {
          "base_uri": "https://localhost:8080/"
        },
        "id": "n2h9mC-JJel3",
        "outputId": "fb35f581-57cf-480d-fecd-28abb5b10c46"
      },
      "execution_count": 10,
      "outputs": [
        {
          "output_type": "stream",
          "name": "stdout",
          "text": [
            "Digit\n"
          ]
        }
      ]
    },
    {
      "cell_type": "markdown",
      "source": [
        "11. Nested if: If an integer is positive, check if greater than 100 or not."
      ],
      "metadata": {
        "id": "ErwLdZ9YJrxY"
      }
    },
    {
      "cell_type": "code",
      "source": [
        "#Check positivity, then range.\n",
        "\n",
        "num = 150\n",
        "if num > 0:\n",
        "    if num > 100:\n",
        "        print(\"Positive and greater than 100\")\n",
        "    else:\n",
        "        print(\"Positive but 100 or less\")\n",
        "else:\n",
        "    print(\"Not positive\")"
      ],
      "metadata": {
        "colab": {
          "base_uri": "https://localhost:8080/"
        },
        "id": "2ZeoOZbhJx3-",
        "outputId": "0e66fd7a-ae79-4c63-ee97-beabdf69058c"
      },
      "execution_count": 11,
      "outputs": [
        {
          "output_type": "stream",
          "name": "stdout",
          "text": [
            "Positive and greater than 100\n"
          ]
        }
      ]
    },
    {
      "cell_type": "markdown",
      "source": [
        "12.  Check if a given number ends with digit 5.\n"
      ],
      "metadata": {
        "id": "7BtJnmUSJ-AC"
      }
    },
    {
      "cell_type": "code",
      "source": [
        "#Convert to string and check last character.\n",
        "\n",
        "num = 75\n",
        "num_str = str(num)\n",
        "if num_str.endswith('5'):\n",
        "    print(\"Ends with 5\")\n",
        "else:\n",
        "    print(\"Does not end with 5\")\n"
      ],
      "metadata": {
        "colab": {
          "base_uri": "https://localhost:8080/"
        },
        "id": "OJGKrTaOJ_eA",
        "outputId": "8ded0c4e-954d-42fd-d96f-acf21d90da0c"
      },
      "execution_count": 12,
      "outputs": [
        {
          "output_type": "stream",
          "name": "stdout",
          "text": [
            "Ends with 5\n"
          ]
        }
      ]
    },
    {
      "cell_type": "markdown",
      "source": [
        "13. Determine if a character is a punctuation mark (only check . , ! ?).\n"
      ],
      "metadata": {
        "id": "U0UEr-82KOxd"
      }
    },
    {
      "cell_type": "code",
      "source": [
        "#Answer: Use if-elif-else with character comparisons.\n",
        "\n",
        "ch = '?'\n",
        "if ch == '.' or ch == ',' or ch == '!' or ch == '?':\n",
        "    print(\"Punctuation\")\n",
        "else:\n",
        "    print(\"Not punctuation\")"
      ],
      "metadata": {
        "colab": {
          "base_uri": "https://localhost:8080/"
        },
        "id": "xFuT72rlKSfd",
        "outputId": "4e752dc9-01ea-425e-9911-e100de743cab"
      },
      "execution_count": 13,
      "outputs": [
        {
          "output_type": "stream",
          "name": "stdout",
          "text": [
            "Punctuation\n"
          ]
        }
      ]
    },
    {
      "cell_type": "markdown",
      "source": [
        "14. Check if a given name starts with a vowel."
      ],
      "metadata": {
        "id": "NxVnBRjmKVVy"
      }
    },
    {
      "cell_type": "code",
      "source": [
        "#Answer: Check first character for vowels.\n",
        "\n",
        "name = \"Amankant\"\n",
        "first_char = name[0].lower()\n",
        "if first_char == 'a' or first_char == 'e' or first_char == 'i' or first_char == 'o' or first_char == 'u':\n",
        "    print(\"Starts with vowel\")\n",
        "else:\n",
        "    print(\"Does not start with vowel\")"
      ],
      "metadata": {
        "colab": {
          "base_uri": "https://localhost:8080/"
        },
        "id": "1TtdbLL1Kavo",
        "outputId": "e97752ae-9bbb-4731-f955-e9e99938944e"
      },
      "execution_count": 14,
      "outputs": [
        {
          "output_type": "stream",
          "name": "stdout",
          "text": [
            "Starts with vowel\n"
          ]
        }
      ]
    },
    {
      "cell_type": "markdown",
      "source": [
        "15. Check if a string starts with 'A' and ends with 'Z'."
      ],
      "metadata": {
        "id": "TmYW4fS3K4Fd"
      }
    },
    {
      "cell_type": "code",
      "source": [
        "#Answer:Use conditions on first and last char.\n",
        "\n",
        "text = \"ABCZ\"\n",
        "if text and text[0] == 'A' and text[-1] == 'Z':\n",
        "    print(\"Starts with A and ends with Z\")\n",
        "else:\n",
        "    print(\"Condition not met\")\n"
      ],
      "metadata": {
        "colab": {
          "base_uri": "https://localhost:8080/"
        },
        "id": "-MpxsvhMKVCP",
        "outputId": "fc8aa9c2-dcb7-4cd2-9456-62fa32d7e666"
      },
      "execution_count": 15,
      "outputs": [
        {
          "output_type": "stream",
          "name": "stdout",
          "text": [
            "Starts with A and ends with Z\n"
          ]
        }
      ]
    },
    {
      "cell_type": "markdown",
      "source": [
        "16.Nested if: If year is divisible by 4, check if also divisible by 100. If yes, then must be divisible by 400 for leap year.\n"
      ],
      "metadata": {
        "id": "vDCbM9NiLD1S"
      }
    },
    {
      "cell_type": "code",
      "source": [
        "#Answer: Detailed leap year check.\n",
        "\n",
        "year = 2000\n",
        "if year % 4 == 0:\n",
        "    if year % 100 == 0:\n",
        "        if year % 400 == 0:\n",
        "            print(\"Leap Year\")\n",
        "        else:\n",
        "            print(\"Not Leap Year\")\n",
        "    else:\n",
        "        print(\"Leap Year\")\n",
        "else:\n",
        "    print(\"Not Leap Year\")"
      ],
      "metadata": {
        "colab": {
          "base_uri": "https://localhost:8080/"
        },
        "id": "Rh7NlSl2LKDM",
        "outputId": "296170e4-560f-46b5-a797-f1e86a908db2"
      },
      "execution_count": 16,
      "outputs": [
        {
          "output_type": "stream",
          "name": "stdout",
          "text": [
            "Leap Year\n"
          ]
        }
      ]
    },
    {
      "cell_type": "markdown",
      "source": [
        "17. Check if a variable is None."
      ],
      "metadata": {
        "id": "Lptoz7BILfsF"
      }
    },
    {
      "cell_type": "code",
      "source": [
        "#Answer: Use is None.\n",
        "\n",
        "var = None\n",
        "if var is None:\n",
        "    print(\"var is None\")\n",
        "else:\n",
        "    print(\"var has a value\")"
      ],
      "metadata": {
        "colab": {
          "base_uri": "https://localhost:8080/"
        },
        "id": "XZyWkHhxLibX",
        "outputId": "c0c6dcde-011f-442c-a905-4188c64e11ff"
      },
      "execution_count": 17,
      "outputs": [
        {
          "output_type": "stream",
          "name": "stdout",
          "text": [
            "var is None\n"
          ]
        }
      ]
    },
    {
      "cell_type": "markdown",
      "source": [
        "18.Determine if a string length is odd or even.\n"
      ],
      "metadata": {
        "id": "_h2p79unLlYq"
      }
    },
    {
      "cell_type": "code",
      "source": [
        "#Answer:Use len() % 2.\n",
        "\n",
        "text = \"Hello\"\n",
        "if len(text) % 2 == 0:\n",
        "    print(\"Even length\")\n",
        "else:\n",
        "    print(\"Odd length\")"
      ],
      "metadata": {
        "colab": {
          "base_uri": "https://localhost:8080/"
        },
        "id": "27bO_rsfLznX",
        "outputId": "c82d0b4a-902f-41cc-cd4f-7f66552e2226"
      },
      "execution_count": 18,
      "outputs": [
        {
          "output_type": "stream",
          "name": "stdout",
          "text": [
            "Odd length\n"
          ]
        }
      ]
    },
    {
      "cell_type": "markdown",
      "source": [
        "19.Nested if: If a character is a letter, check if it is uppercase or lowercase."
      ],
      "metadata": {
        "id": "WOX_QgqPL8El"
      }
    },
    {
      "cell_type": "code",
      "source": [
        "#Answer:Check if letter using isalpha(), then case.\n",
        "\n",
        "ch = 'G'\n",
        "if ch.isalpha():\n",
        "    if ch.isupper():\n",
        "        print(\"Uppercase letter\")\n",
        "    else:\n",
        "        print(\"Lowercase letter\")\n",
        "else:\n",
        "    print(\"Not a letter\")"
      ],
      "metadata": {
        "colab": {
          "base_uri": "https://localhost:8080/"
        },
        "id": "I3j2E6ajL-e_",
        "outputId": "03964bce-71a8-4027-d05d-b3ed45c80fe0"
      },
      "execution_count": 19,
      "outputs": [
        {
          "output_type": "stream",
          "name": "stdout",
          "text": [
            "Uppercase letter\n"
          ]
        }
      ]
    },
    {
      "cell_type": "markdown",
      "source": [
        "20. Check if a string is a palindrome (only check first and last character for demonstration)."
      ],
      "metadata": {
        "id": "7NtNCamdMLEf"
      }
    },
    {
      "cell_type": "code",
      "source": [
        "#Answer:No data structures, just basic conditions.\n",
        "\n",
        "text = \"madam\"\n",
        "if text and text[0] == text[-1]:\n",
        "    print(\"Potential palindrome (first and last char match)\")\n",
        "else:\n",
        "    print(\"Not palindrome based on first and last char\")"
      ],
      "metadata": {
        "colab": {
          "base_uri": "https://localhost:8080/"
        },
        "id": "HdOhYElaMNSo",
        "outputId": "359893a0-61f7-4195-b8aa-8b62df32640f"
      },
      "execution_count": 21,
      "outputs": [
        {
          "output_type": "stream",
          "name": "stdout",
          "text": [
            "Potential palindrome (first and last char match)\n"
          ]
        }
      ]
    }
  ]
}